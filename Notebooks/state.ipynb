{
 "cells": [
  {
   "cell_type": "code",
   "execution_count": null,
   "id": "5d2a3fd0",
   "metadata": {},
   "outputs": [],
   "source": [
    "from typing import TypedDict, Dict, List, Any\n",
    "from typing_extensions import NotRequired\n",
    "\n",
    "class InputState(TypedDict, total=False):\n",
    "    websocket_manager: NotRequired[WebSocketManager]\n",
    "    job_id:           NotRequired[str]          # Para streaming\n",
    "    run_mode:         str                       # \"live\", \"backtest\"…\n",
    "\n",
    "class ResearchState(InputState):\n",
    "    news_docs:            Dict[str, Any]\n",
    "    tech_docs:            Dict[str, Any]\n",
    "    curated_news_docs:    Dict[str, Any]\n",
    "    curated_tech_docs:    Dict[str, Any]\n",
    "    raw_metrics:          Dict[str, Any]        # JSON vindo de APIs\n",
    "    references:           List[str]\n",
    "    messages:             List[Any]\n",
    "    strategic_json:       Dict[str, Any]        # Saída do Strategic Analyst\n",
    "    report_md:            str                   # Markdown final\n"
   ]
  }
 ],
 "metadata": {
  "kernelspec": {
   "display_name": "Python 3",
   "language": "python",
   "name": "python3"
  },
  "language_info": {
   "name": "python",
   "version": "3.11.0"
  }
 },
 "nbformat": 4,
 "nbformat_minor": 5
}
