{
 "cells": [
  {
   "cell_type": "code",
   "execution_count": 3,
   "id": "016b3ce9",
   "metadata": {},
   "outputs": [],
   "source": [
    "import requests\n",
    "import pandas as pd\n",
    "import pandas_ta as ta\n",
    "import os\n",
    "from dotenv import load_dotenv\n",
    "import json\n",
    "import yfinance as yf"
   ]
  },
  {
   "cell_type": "code",
   "execution_count": 2,
   "id": "4b9bf92f",
   "metadata": {},
   "outputs": [],
   "source": [
    "from markdown_pdf import MarkdownPdf"
   ]
  },
  {
   "cell_type": "code",
   "execution_count": 3,
   "id": "8e2a445e",
   "metadata": {},
   "outputs": [],
   "source": [
    "pdf = MarkdownPdf(toc_level=2)"
   ]
  },
  {
   "cell_type": "code",
   "execution_count": null,
   "id": "9e09f6f9",
   "metadata": {},
   "outputs": [],
   "source": [
    "pdf.add_section()"
   ]
  }
 ],
 "metadata": {
  "kernelspec": {
   "display_name": "Python 3",
   "language": "python",
   "name": "python3"
  },
  "language_info": {
   "codemirror_mode": {
    "name": "ipython",
    "version": 3
   },
   "file_extension": ".py",
   "mimetype": "text/x-python",
   "name": "python",
   "nbconvert_exporter": "python",
   "pygments_lexer": "ipython3",
   "version": "3.11.0"
  }
 },
 "nbformat": 4,
 "nbformat_minor": 5
}
